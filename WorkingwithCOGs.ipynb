{
 "cells": [
  {
   "cell_type": "markdown",
   "id": "unknown-witch",
   "metadata": {},
   "source": [
    "# Bulk Access to OpenTopography's Global Datasets \n",
    "## Leveraging the Power of COGs"
   ]
  },
  {
   "cell_type": "markdown",
   "id": "lightweight-notice",
   "metadata": {},
   "source": [
    "[OpenTopography](https://opentopography.org/) strives to provide a variety of access methods to our datasets to address the varying needs of our users. While most users access data through the web map interface, others prefer to programmatically access data from our cloud-based storage. In this tutorial we will explore a couple of different methods of accessing data over the Grand Canyon from the cloud-based [NASA Shuttle Radar Topography Mission (SRTM) catalog in OpenTopography](https://doi.org/10.5069/G9445JDF).  We will also demonstrate how we can use open-source, command line tools to programmatically access data without the need for a web-map interface. In addition, this tutorial should highlight the power of [Cloud Optimized Geotiffs (COGs).](https://www.cogeo.org/) and how they can be used to reduce download filesizes as well as increase data access speeds.\n",
    "\n",
    "COGs are quickly becoming a standard format for hosting raster data in the cloud due to its optimized file structure to enable faster access and subsetting. In order to take advantage of this benefit, [OpenTopography](https://opentopography.org/) has recently converted its entire global dataset collection to COGs. With the COG format, programs and web requests can read the top-level header and quickly extract data for a region of interest as opposed to having to read the entire file.  This drastically reduces file read-time as well as reducing the number of http GET requests to access the data.  For a more detailed discussion on COGs and their benefits see the resources section at the bottom of this page.  \n",
    "\n",
    "For this tutorial, it is recommended to set up a conda environment with GDAL 3.2 and AWS CLI tools installed:\n",
    "\n",
    "`# Create a conda environment called, 'COGS', and install GDAL v 3.2:\n",
    " conda create -n COGS -c conda-forge gdal==3.2.0`\n",
    "\n",
    " `#Activate your new environment\n",
    " conda activate COGS` \n",
    " \n",
    " `#install AWS command line tools in your environment\n",
    " conda install -c conda-forge awscli`\n",
    "\n",
    " Below is a Google Earth image of a section of the Grand Canyon, AZ where we will extract data:"
   ]
  },
  {
   "cell_type": "markdown",
   "id": "continental-benefit",
   "metadata": {},
   "source": [
    "![GrandCanyon](img/GC_Basemap.png)"
   ]
  },
  {
   "cell_type": "markdown",
   "id": "raising-cleaning",
   "metadata": {},
   "source": [
    "---\n",
    "The [SRTM catalog in OpenTopography](https://doi.org/10.5069/G9445JDF) is organized into tiled COGs where each tile is named after its lower left corner (e.g. N35W112.tif is the tile that has its South-West corner at 35 Degrees North, 112 degrees West). \n",
    "\n",
    "For this exercise we will gather data around the Grand Canyon with a lat/lon bounds of [-114, 35, -111, 37].  \n",
    "\n",
    "Using this Area of Interest (AOI) information we can grab the tiles that cover this region.  OpenTopography users can access all hosted data via AWS Command Line Tools.  So, knowing the lat/lon bounds of our area of interest, we can download just the tiles for this region using [aws command line tools](https://anaconda.org/conda-forge/awscli).  \n",
    "\n",
    "It is useful to incorporate wildcards to limit the data you need to download.  The example belows downloads all files that match: N35W112.tif, N35W113.tif, N35W114.tif, N36W114.tif, N36W112.tif, & N36W113.tif "
   ]
  },
  {
   "cell_type": "code",
   "execution_count": 3,
   "id": "dominant-snapshot",
   "metadata": {},
   "outputs": [
    {
     "name": "stdout",
     "output_type": "stream",
     "text": [
      "download: s3://raster/SRTM_GL1/SRTM_GL1_srtm/N35W112.tif to ./N35W112.tif             \n",
      "download: s3://raster/SRTM_GL1/SRTM_GL1_srtm/N35W113.tif to ./N35W113.tif          \n",
      "download: s3://raster/SRTM_GL1/SRTM_GL1_srtm/N36W112.tif to ./N36W112.tif          \n",
      "download: s3://raster/SRTM_GL1/SRTM_GL1_srtm/N35W114.tif to ./N35W114.tif\n",
      "download: s3://raster/SRTM_GL1/SRTM_GL1_srtm/N36W113.tif to ./N36W113.tif\n",
      "download: s3://raster/SRTM_GL1/SRTM_GL1_srtm/N36W114.tif to ./N36W114.tif\n"
     ]
    }
   ],
   "source": [
    "!aws s3 cp s3://raster/SRTM_GL1/SRTM_GL1_srtm/ . --recursive --exclude \"*\" --include \"N3[56]W11[234].tif\" --endpoint-url https://opentopography.s3.sdsc.edu --no-sign-request"
   ]
  },
  {
   "cell_type": "markdown",
   "id": "further-dutch",
   "metadata": {},
   "source": [
    "---\n",
    "Plotting the downloaded geotiffs in QGIS on top of Googe Earth imagery:\n",
    "\n",
    "![Basemap with SRTM](img/GC_wSRTMTiles.png)"
   ]
  },
  {
   "cell_type": "markdown",
   "id": "foreign-plenty",
   "metadata": {},
   "source": [
    "Downloading the data in this manner, we end up with 6 tifs that broadly cover our area. But what if we wanted to confine our search area around the Colorado River, and reduce time spent on post processing of the data?  \n",
    "\n",
    "An easier way would be to utilize GDAL's [Virtual Raster Datasets (VRT)](https://gdal.org/programs/gdalbuildvrt.html).\n",
    "\n",
    "As part of our ingest process, OpenTopography builds VRTs for all its rasters to enable faster and more efficient data access.  With GDAL and VRTs, users can extract a specific area of interest and obtain a merged, clipped raster all in one operation.  For example, by using the vsicurl command with a targeted bounding box, we can extract a raster that covers the area of the Grand Canyon around the Colorado River."
   ]
  },
  {
   "cell_type": "code",
   "execution_count": 4,
   "id": "british-lawyer",
   "metadata": {},
   "outputs": [
    {
     "name": "stdout",
     "output_type": "stream",
     "text": [
      "HTTP: libcurl/7.71.1 OpenSSL/1.1.1i zlib/1.2.11 libssh2/1.9.0 nghttp2/1.43.0\n",
      "VSICURL: GetFileSize(https://opentopography.s3.sdsc.edu/raster/SRTM_GL1/SRTM_GL1_srtm.vrt)=6236931  response_code=200\n",
      "VSICURL: Downloading 0-16383 (https://opentopography.s3.sdsc.edu/raster/SRTM_GL1/SRTM_GL1_srtm.vrt)...\n",
      "VSICURL: Got response_code=206\n",
      "VSICURL: Downloading 16384-6236930 (https://opentopography.s3.sdsc.edu/raster/SRTM_GL1/SRTM_GL1_srtm.vrt)...\n",
      "VSICURL: Got response_code=206\n",
      "GDAL: GDALOpen(/vsicurl/https://opentopography.s3.sdsc.edu/raster/SRTM_GL1/SRTM_GL1_srtm.vrt, this=0x7fb50d6a5560) succeeds as VRT.\n",
      "Input file size is 1296001, 417601\n",
      "GDAL: GDALDefaultOverviews::OverviewScan()\n",
      "VSICURL: GetFileSize(https://opentopography.s3.sdsc.edu/raster/SRTM_GL1/SRTM_GL1_srtm.vrt.ovr)=0  response_code=404\n",
      "VSICURL: GetFileSize(https://opentopography.s3.sdsc.edu/raster/SRTM_GL1/SRTM_GL1_srtm.vrt.OVR)=0  response_code=404\n",
      "VSICURL: GetFileList(/vsicurl/https://opentopography.s3.sdsc.edu/raster/SRTM_GL1)\n",
      "VSICURL: GetFileSize(https://opentopography.s3.sdsc.edu/raster/SRTM_GL1/SRTM_GL1_srtm.aux)=0  response_code=404\n",
      "VSICURL: GetFileSize(https://opentopography.s3.sdsc.edu/raster/SRTM_GL1/SRTM_GL1_srtm.AUX)=0  response_code=404\n",
      "VSICURL: GetFileSize(https://opentopography.s3.sdsc.edu/raster/SRTM_GL1/SRTM_GL1_srtm.vrt.aux)=0  response_code=404\n",
      "VSICURL: GetFileSize(https://opentopography.s3.sdsc.edu/raster/SRTM_GL1/SRTM_GL1_srtm.vrt.AUX)=0  response_code=404\n",
      "VSICURL: GetFileSize(https://opentopography.s3.sdsc.edu/raster/SRTM_GL1/SRTM_GL1_srtm.vrt.msk)=0  response_code=404\n",
      "VSICURL: GetFileSize(https://opentopography.s3.sdsc.edu/raster/SRTM_GL1/SRTM_GL1_srtm.vrt.MSK)=0  response_code=404\n",
      "COG: Generating overviews of the imagery: start\n",
      "GTiff: File being created as a BigTIFF.\n",
      "GDAL: GDALOpen(srtm_GC.tif.ovr.tmp, this=0x7fb50d60c9f0) succeeds as GTiff.\n",
      "GTiff: ScanDirectories()\n",
      "GTiff: Opened 1982x776 overview.\n",
      "GTiff: Opened 991x388 overview.\n",
      "GTiff: Opened 495x194 overview.\n",
      "0VSICURL: GetFileSize(https://opentopography.s3.sdsc.edu/raster/SRTM_GL1/SRTM_GL1_srtm/N36W112.tif)=14502248  response_code=200\n",
      "VSICURL: Downloading 0-16383 (https://opentopography.s3.sdsc.edu/raster/SRTM_GL1/SRTM_GL1_srtm/N36W112.tif)...\n",
      "VSICURL: Got response_code=206\n",
      "GDAL: GDALOpen(/vsicurl/https://opentopography.s3.sdsc.edu/raster/SRTM_GL1/SRTM_GL1_srtm/N36W112.tif, this=0x7fb50d60de30) succeeds as GTiff.\n",
      "VSICURL: Downloading 7466184-7698921 (https://opentopography.s3.sdsc.edu/raster/SRTM_GL1/SRTM_GL1_srtm/N36W112.tif)...\n",
      "VSICURL: Downloading 11613471-11787189 (https://opentopography.s3.sdsc.edu/raster/SRTM_GL1/SRTM_GL1_srtm/N36W112.tif)...\n",
      "VSICURL: Download completed\n",
      "GDAL: GDAL_CACHEMAX = 819 MB\n",
      "VSICURL: GetFileSize(https://opentopography.s3.sdsc.edu/raster/SRTM_GL1/SRTM_GL1_srtm/N36W113.tif)=16055992  response_code=200\n",
      "VSICURL: Downloading 0-16383 (https://opentopography.s3.sdsc.edu/raster/SRTM_GL1/SRTM_GL1_srtm/N36W113.tif)...\n",
      "VSICURL: Got response_code=206\n",
      "GDAL: GDALOpen(/vsicurl/https://opentopography.s3.sdsc.edu/raster/SRTM_GL1/SRTM_GL1_srtm/N36W113.tif, this=0x7fb50ea69840) succeeds as GTiff.\n",
      "VSICURL: Downloading 4719218-4730455 (https://opentopography.s3.sdsc.edu/raster/SRTM_GL1/SRTM_GL1_srtm/N36W113.tif)...\n",
      "VSICURL: Downloading 5195741-5439901 (https://opentopography.s3.sdsc.edu/raster/SRTM_GL1/SRTM_GL1_srtm/N36W113.tif)...\n",
      "VSICURL: Downloading 5678907-5960694 (https://opentopography.s3.sdsc.edu/raster/SRTM_GL1/SRTM_GL1_srtm/N36W113.tif)...\n",
      "VSICURL: Downloading 13042148-13388408 (https://opentopography.s3.sdsc.edu/raster/SRTM_GL1/SRTM_GL1_srtm/N36W113.tif)...\n",
      "VSICURL: Downloading 13623438-13895720 (https://opentopography.s3.sdsc.edu/raster/SRTM_GL1/SRTM_GL1_srtm/N36W113.tif)...\n",
      "VSICURL: Downloading 14066071-14546886 (https://opentopography.s3.sdsc.edu/raster/SRTM_GL1/SRTM_GL1_srtm/N36W113.tif)...\n",
      "VSICURL: Download completed\n",
      "VSICURL: GetFileSize(https://opentopography.s3.sdsc.edu/raster/SRTM_GL1/SRTM_GL1_srtm/N36W114.tif)=15931938  response_code=200\n",
      "VSICURL: Downloading 0-16383 (https://opentopography.s3.sdsc.edu/raster/SRTM_GL1/SRTM_GL1_srtm/N36W114.tif)...\n",
      "VSICURL: Got response_code=206\n",
      "GDAL: GDALOpen(/vsicurl/https://opentopography.s3.sdsc.edu/raster/SRTM_GL1/SRTM_GL1_srtm/N36W114.tif, this=0x7fb50d61b120) succeeds as GTiff.\n",
      "VSICURL: Downloading 4739603-4750204 (https://opentopography.s3.sdsc.edu/raster/SRTM_GL1/SRTM_GL1_srtm/N36W114.tif)...\n",
      "VSICURL: Downloading 5810492-5991870 (https://opentopography.s3.sdsc.edu/raster/SRTM_GL1/SRTM_GL1_srtm/N36W114.tif)...\n",
      "VSICURL: Downloading 12500678-13755023 (https://opentopography.s3.sdsc.edu/raster/SRTM_GL1/SRTM_GL1_srtm/N36W114.tif)...\n",
      "VSICURL: Download completed\n",
      "VSICURL: Downloading 12746752-13205503 (https://opentopography.s3.sdsc.edu/raster/SRTM_GL1/SRTM_GL1_srtm/N36W112.tif)...\n",
      "VSICURL: Got response_code=206\n",
      "VSICURL: Downloading 4706132-4719217 (https://opentopography.s3.sdsc.edu/raster/SRTM_GL1/SRTM_GL1_srtm/N36W113.tif)...\n",
      "VSICURL: Downloading 4730456-5041347 (https://opentopography.s3.sdsc.edu/raster/SRTM_GL1/SRTM_GL1_srtm/N36W113.tif)...\n",
      "VSICURL: Downloading 7537068-8019696 (https://opentopography.s3.sdsc.edu/raster/SRTM_GL1/SRTM_GL1_srtm/N36W113.tif)...\n",
      "VSICURL: Downloading 9626082-10193230 (https://opentopography.s3.sdsc.edu/raster/SRTM_GL1/SRTM_GL1_srtm/N36W113.tif)...\n",
      "VSICURL: Downloading 14891019-15430227 (https://opentopography.s3.sdsc.edu/raster/SRTM_GL1/SRTM_GL1_srtm/N36W113.tif)...\n",
      "VSICURL: Download completed\n",
      "VSICURL: Downloading 4720028-4730956 (https://opentopography.s3.sdsc.edu/raster/SRTM_GL1/SRTM_GL1_srtm/N36W114.tif)...\n",
      "VSICURL: Downloading 4750205-4995177 (https://opentopography.s3.sdsc.edu/raster/SRTM_GL1/SRTM_GL1_srtm/N36W114.tif)...\n",
      "VSICURL: Downloading 6877634-7128789 (https://opentopography.s3.sdsc.edu/raster/SRTM_GL1/SRTM_GL1_srtm/N36W114.tif)...\n",
      "VSICURL: Downloading 8344034-8544376 (https://opentopography.s3.sdsc.edu/raster/SRTM_GL1/SRTM_GL1_srtm/N36W114.tif)...\n",
      "VSICURL: Downloading 14294530-15176831 (https://opentopography.s3.sdsc.edu/raster/SRTM_GL1/SRTM_GL1_srtm/N36W114.tif)...\n",
      "VSICURL: Download completed\n",
      ".VSICURL: Downloading 5880796-6204576 (https://opentopography.s3.sdsc.edu/raster/SRTM_GL1/SRTM_GL1_srtm/N36W112.tif)...\n",
      "VSICURL: Downloading 9232690-9501655 (https://opentopography.s3.sdsc.edu/raster/SRTM_GL1/SRTM_GL1_srtm/N36W112.tif)...\n",
      "VSICURL: Download completed\n",
      "VSICURL: Downloading 8019697-8326524 (https://opentopography.s3.sdsc.edu/raster/SRTM_GL1/SRTM_GL1_srtm/N36W113.tif)...\n",
      "VSICURL: Downloading 8659203-8967274 (https://opentopography.s3.sdsc.edu/raster/SRTM_GL1/SRTM_GL1_srtm/N36W113.tif)...\n",
      "VSICURL: Downloading 10711820-10976512 (https://opentopography.s3.sdsc.edu/raster/SRTM_GL1/SRTM_GL1_srtm/N36W113.tif)...\n",
      "VSICURL: Downloading 11501924-11785771 (https://opentopography.s3.sdsc.edu/raster/SRTM_GL1/SRTM_GL1_srtm/N36W113.tif)...\n",
      "VSICURL: Downloading 14546887-14882831 (https://opentopography.s3.sdsc.edu/raster/SRTM_GL1/SRTM_GL1_srtm/N36W113.tif)...\n",
      "VSICURL: Downloading 15430228-15722282 (https://opentopography.s3.sdsc.edu/raster/SRTM_GL1/SRTM_GL1_srtm/N36W113.tif)...\n",
      "VSICURL: Downloading 15728589-16055991 (https://opentopography.s3.sdsc.edu/raster/SRTM_GL1/SRTM_GL1_srtm/N36W113.tif)...\n",
      "VSICURL: Download completed\n",
      "VSICURL: Downloading 5991871-6231182 (https://opentopography.s3.sdsc.edu/raster/SRTM_GL1/SRTM_GL1_srtm/N36W114.tif)...\n",
      "VSICURL: Downloading 6863872-6877633 (https://opentopography.s3.sdsc.edu/raster/SRTM_GL1/SRTM_GL1_srtm/N36W114.tif)...\n",
      "VSICURL: Downloading 7769085-7949013 (https://opentopography.s3.sdsc.edu/raster/SRTM_GL1/SRTM_GL1_srtm/N36W114.tif)...\n",
      "VSICURL: Downloading 9230581-9506274 (https://opentopography.s3.sdsc.edu/raster/SRTM_GL1/SRTM_GL1_srtm/N36W114.tif)...\n",
      "VSICURL: Downloading 10839777-11123878 (https://opentopography.s3.sdsc.edu/raster/SRTM_GL1/SRTM_GL1_srtm/N36W114.tif)...\n",
      "VSICURL: Downloading 14001486-14294529 (https://opentopography.s3.sdsc.edu/raster/SRTM_GL1/SRTM_GL1_srtm/N36W114.tif)...\n",
      "VSICURL: Downloading 15188337-15710012 (https://opentopography.s3.sdsc.edu/raster/SRTM_GL1/SRTM_GL1_srtm/N36W114.tif)...\n",
      "VSICURL: Download completed\n",
      ".VSICURL: Downloading 8122140-8456330 (https://opentopography.s3.sdsc.edu/raster/SRTM_GL1/SRTM_GL1_srtm/N36W112.tif)...\n",
      "VSICURL: Downloading 9681277-9965161 (https://opentopography.s3.sdsc.edu/raster/SRTM_GL1/SRTM_GL1_srtm/N36W112.tif)...\n"
     ]
    },
    {
     "name": "stdout",
     "output_type": "stream",
     "text": [
      "VSICURL: Download completed\n",
      "VSICURL: Downloading 10200709-10694096 (https://opentopography.s3.sdsc.edu/raster/SRTM_GL1/SRTM_GL1_srtm/N36W113.tif)...\n",
      "VSICURL: Downloading 11291077-11496055 (https://opentopography.s3.sdsc.edu/raster/SRTM_GL1/SRTM_GL1_srtm/N36W113.tif)...\n",
      "VSICURL: Downloading 12100112-12582546 (https://opentopography.s3.sdsc.edu/raster/SRTM_GL1/SRTM_GL1_srtm/N36W113.tif)...\n",
      "VSICURL: Downloading 13388409-13623437 (https://opentopography.s3.sdsc.edu/raster/SRTM_GL1/SRTM_GL1_srtm/N36W113.tif)...\n",
      "VSICURL: Downloading 13895721-14066070 (https://opentopography.s3.sdsc.edu/raster/SRTM_GL1/SRTM_GL1_srtm/N36W113.tif)...\n",
      "VSICURL: Download completed\n",
      "VSICURL: Downloading 8544377-8825203 (https://opentopography.s3.sdsc.edu/raster/SRTM_GL1/SRTM_GL1_srtm/N36W114.tif)...\n",
      "VSICURL: Downloading 9506275-10113860 (https://opentopography.s3.sdsc.edu/raster/SRTM_GL1/SRTM_GL1_srtm/N36W114.tif)...\n",
      "VSICURL: Downloading 11366319-11972049 (https://opentopography.s3.sdsc.edu/raster/SRTM_GL1/SRTM_GL1_srtm/N36W114.tif)...\n",
      "VSICURL: Downloading 13755024-14001485 (https://opentopography.s3.sdsc.edu/raster/SRTM_GL1/SRTM_GL1_srtm/N36W114.tif)...\n",
      "VSICURL: Downloading 15710013-15931937 (https://opentopography.s3.sdsc.edu/raster/SRTM_GL1/SRTM_GL1_srtm/N36W114.tif)...\n",
      "VSICURL: Download completed\n",
      ".VSICURL: GetFileSize(https://opentopography.s3.sdsc.edu/raster/SRTM_GL1/SRTM_GL1_srtm/N35W112.tif)=12861180  response_code=200\n",
      "VSICURL: Downloading 0-16383 (https://opentopography.s3.sdsc.edu/raster/SRTM_GL1/SRTM_GL1_srtm/N35W112.tif)...\n",
      "VSICURL: Got response_code=206\n",
      "GDAL: GDALOpen(/vsicurl/https://opentopography.s3.sdsc.edu/raster/SRTM_GL1/SRTM_GL1_srtm/N35W112.tif, this=0x7fb50d552610) succeeds as GTiff.\n",
      "VSICURL: Downloading 4029114-4213316 (https://opentopography.s3.sdsc.edu/raster/SRTM_GL1/SRTM_GL1_srtm/N35W112.tif)...\n",
      "VSICURL: Downloading 5574020-5763823 (https://opentopography.s3.sdsc.edu/raster/SRTM_GL1/SRTM_GL1_srtm/N35W112.tif)...\n",
      "VSICURL: Download completed\n",
      "VSICURL: GetFileSize(https://opentopography.s3.sdsc.edu/raster/SRTM_GL1/SRTM_GL1_srtm/N35W114.tif)=15648558  response_code=200\n",
      "VSICURL: Downloading 0-16383 (https://opentopography.s3.sdsc.edu/raster/SRTM_GL1/SRTM_GL1_srtm/N35W114.tif)...\n",
      "VSICURL: Got response_code=206\n",
      "GDAL: GDALOpen(/vsicurl/https://opentopography.s3.sdsc.edu/raster/SRTM_GL1/SRTM_GL1_srtm/N35W114.tif, this=0x7fb50d80a900) succeeds as GTiff.\n",
      "VSICURL: Downloading 4633790-4643331 (https://opentopography.s3.sdsc.edu/raster/SRTM_GL1/SRTM_GL1_srtm/N35W114.tif)...\n",
      "VSICURL: Downloading 4686037-4984062 (https://opentopography.s3.sdsc.edu/raster/SRTM_GL1/SRTM_GL1_srtm/N35W114.tif)...\n",
      "VSICURL: Downloading 5289577-5614239 (https://opentopography.s3.sdsc.edu/raster/SRTM_GL1/SRTM_GL1_srtm/N35W114.tif)...\n",
      "VSICURL: Downloading 6185391-7278104 (https://opentopography.s3.sdsc.edu/raster/SRTM_GL1/SRTM_GL1_srtm/N35W114.tif)...\n",
      "VSICURL: Downloading 8323153-8566282 (https://opentopography.s3.sdsc.edu/raster/SRTM_GL1/SRTM_GL1_srtm/N35W114.tif)...\n",
      "VSICURL: Download completed\n",
      "VSICURL: GetFileSize(https://opentopography.s3.sdsc.edu/raster/SRTM_GL1/SRTM_GL1_srtm/N35W113.tif)=12142476  response_code=200\n",
      "VSICURL: Downloading 0-16383 (https://opentopography.s3.sdsc.edu/raster/SRTM_GL1/SRTM_GL1_srtm/N35W113.tif)...\n",
      "VSICURL: Got response_code=206\n",
      "GDAL: GDALOpen(/vsicurl/https://opentopography.s3.sdsc.edu/raster/SRTM_GL1/SRTM_GL1_srtm/N35W113.tif, this=0x7fb50d66afd0) succeeds as GTiff.\n",
      "VSICURL: Downloading 3832129-3843115 (https://opentopography.s3.sdsc.edu/raster/SRTM_GL1/SRTM_GL1_srtm/N35W113.tif)...\n",
      "VSICURL: Downloading 3885050-4213605 (https://opentopography.s3.sdsc.edu/raster/SRTM_GL1/SRTM_GL1_srtm/N35W113.tif)...\n",
      "VSICURL: Downloading 4742609-4870194 (https://opentopography.s3.sdsc.edu/raster/SRTM_GL1/SRTM_GL1_srtm/N35W113.tif)...\n",
      "VSICURL: Downloading 5180523-5631311 (https://opentopography.s3.sdsc.edu/raster/SRTM_GL1/SRTM_GL1_srtm/N35W113.tif)...\n",
      "VSICURL: Downloading 6970530-7088600 (https://opentopography.s3.sdsc.edu/raster/SRTM_GL1/SRTM_GL1_srtm/N35W113.tif)...\n",
      "VSICURL: Download completed\n",
      "VSICURL: Downloading 8093696-8126463 (https://opentopography.s3.sdsc.edu/raster/SRTM_GL1/SRTM_GL1_srtm/N36W112.tif)...\n",
      "VSICURL: Got response_code=206\n",
      "VSICURL: Downloading 10193231-10200708 (https://opentopography.s3.sdsc.edu/raster/SRTM_GL1/SRTM_GL1_srtm/N36W113.tif)...\n",
      "VSICURL: Downloading 10694097-10711819 (https://opentopography.s3.sdsc.edu/raster/SRTM_GL1/SRTM_GL1_srtm/N36W113.tif)...\n",
      "VSICURL: Downloading 11496056-11501923 (https://opentopography.s3.sdsc.edu/raster/SRTM_GL1/SRTM_GL1_srtm/N36W113.tif)...\n",
      "VSICURL: Downloading 12093720-12100111 (https://opentopography.s3.sdsc.edu/raster/SRTM_GL1/SRTM_GL1_srtm/N36W113.tif)...\n",
      "VSICURL: Downloading 14882832-14891018 (https://opentopography.s3.sdsc.edu/raster/SRTM_GL1/SRTM_GL1_srtm/N36W113.tif)...\n",
      "VSICURL: Downloading 15722283-15728588 (https://opentopography.s3.sdsc.edu/raster/SRTM_GL1/SRTM_GL1_srtm/N36W113.tif)...\n",
      "VSICURL: Download completed\n",
      "VSICURL: Downloading 8825204-8837270 (https://opentopography.s3.sdsc.edu/raster/SRTM_GL1/SRTM_GL1_srtm/N36W114.tif)...\n",
      "VSICURL: Downloading 9048892-9060572 (https://opentopography.s3.sdsc.edu/raster/SRTM_GL1/SRTM_GL1_srtm/N36W114.tif)...\n",
      "VSICURL: Downloading 9220742-9230580 (https://opentopography.s3.sdsc.edu/raster/SRTM_GL1/SRTM_GL1_srtm/N36W114.tif)...\n",
      "VSICURL: Downloading 10113861-10126549 (https://opentopography.s3.sdsc.edu/raster/SRTM_GL1/SRTM_GL1_srtm/N36W114.tif)...\n",
      "VSICURL: Downloading 12138904-12150795 (https://opentopography.s3.sdsc.edu/raster/SRTM_GL1/SRTM_GL1_srtm/N36W114.tif)...\n",
      "VSICURL: Downloading 12487116-12500677 (https://opentopography.s3.sdsc.edu/raster/SRTM_GL1/SRTM_GL1_srtm/N36W114.tif)...\n",
      "VSICURL: Downloading 15176832-15188336 (https://opentopography.s3.sdsc.edu/raster/SRTM_GL1/SRTM_GL1_srtm/N36W114.tif)...\n",
      "VSICURL: Download completed\n",
      "10VSICURL: Downloading 6736377-6891522 (https://opentopography.s3.sdsc.edu/raster/SRTM_GL1/SRTM_GL1_srtm/N35W112.tif)...\n",
      "VSICURL: Downloading 8754328-8899866 (https://opentopography.s3.sdsc.edu/raster/SRTM_GL1/SRTM_GL1_srtm/N35W112.tif)...\n",
      "VSICURL: Download completed\n",
      "VSICURL: Downloading 4643332-4652857 (https://opentopography.s3.sdsc.edu/raster/SRTM_GL1/SRTM_GL1_srtm/N35W114.tif)...\n",
      "VSICURL: Downloading 4984063-5289576 (https://opentopography.s3.sdsc.edu/raster/SRTM_GL1/SRTM_GL1_srtm/N35W114.tif)...\n",
      "VSICURL: Downloading 5614240-6185390 (https://opentopography.s3.sdsc.edu/raster/SRTM_GL1/SRTM_GL1_srtm/N35W114.tif)...\n",
      "VSICURL: Downloading 7520966-8323152 (https://opentopography.s3.sdsc.edu/raster/SRTM_GL1/SRTM_GL1_srtm/N35W114.tif)...\n",
      "VSICURL: Downloading 8566283-8802885 (https://opentopography.s3.sdsc.edu/raster/SRTM_GL1/SRTM_GL1_srtm/N35W114.tif)...\n",
      "VSICURL: Download completed\n",
      "VSICURL: Downloading 3851416-3860733 (https://opentopography.s3.sdsc.edu/raster/SRTM_GL1/SRTM_GL1_srtm/N35W113.tif)...\n",
      "VSICURL: Downloading 4213606-4372719 (https://opentopography.s3.sdsc.edu/raster/SRTM_GL1/SRTM_GL1_srtm/N35W113.tif)...\n",
      "VSICURL: Downloading 4870195-5012635 (https://opentopography.s3.sdsc.edu/raster/SRTM_GL1/SRTM_GL1_srtm/N35W113.tif)...\n",
      "VSICURL: Downloading 5782626-5922213 (https://opentopography.s3.sdsc.edu/raster/SRTM_GL1/SRTM_GL1_srtm/N35W113.tif)...\n",
      "VSICURL: Downloading 7891081-8116520 (https://opentopography.s3.sdsc.edu/raster/SRTM_GL1/SRTM_GL1_srtm/N35W113.tif)...\n",
      "VSICURL: Downloading 8122760-8421656 (https://opentopography.s3.sdsc.edu/raster/SRTM_GL1/SRTM_GL1_srtm/N35W113.tif)...\n",
      "VSICURL: Download completed\n",
      ".VSICURL: Downloading 5763824-5928955 (https://opentopography.s3.sdsc.edu/raster/SRTM_GL1/SRTM_GL1_srtm/N35W112.tif)...\n",
      "VSICURL: Downloading 9912840-10051887 (https://opentopography.s3.sdsc.edu/raster/SRTM_GL1/SRTM_GL1_srtm/N35W112.tif)...\n",
      "VSICURL: Download completed\n",
      "VSICURL: Downloading 4662501-4674421 (https://opentopography.s3.sdsc.edu/raster/SRTM_GL1/SRTM_GL1_srtm/N35W114.tif)...\n",
      "VSICURL: Downloading 7278105-7520965 (https://opentopography.s3.sdsc.edu/raster/SRTM_GL1/SRTM_GL1_srtm/N35W114.tif)...\n",
      "VSICURL: Downloading 8802886-9217708 (https://opentopography.s3.sdsc.edu/raster/SRTM_GL1/SRTM_GL1_srtm/N35W114.tif)...\n",
      "VSICURL: Downloading 11734684-12602531 (https://opentopography.s3.sdsc.edu/raster/SRTM_GL1/SRTM_GL1_srtm/N35W114.tif)...\n",
      "VSICURL: Download completed\n",
      "VSICURL: Downloading 3843116-3851415 (https://opentopography.s3.sdsc.edu/raster/SRTM_GL1/SRTM_GL1_srtm/N35W113.tif)...\n",
      "VSICURL: Downloading 5012636-5180522 (https://opentopography.s3.sdsc.edu/raster/SRTM_GL1/SRTM_GL1_srtm/N35W113.tif)...\n",
      "VSICURL: Downloading 6425298-6567393 (https://opentopography.s3.sdsc.edu/raster/SRTM_GL1/SRTM_GL1_srtm/N35W113.tif)...\n",
      "VSICURL: Downloading 8806092-9532615 (https://opentopography.s3.sdsc.edu/raster/SRTM_GL1/SRTM_GL1_srtm/N35W113.tif)...\n"
     ]
    },
    {
     "name": "stdout",
     "output_type": "stream",
     "text": [
      "VSICURL: Download completed\n",
      "..20GDAL: GDALClose(srtm_GC.tif.ovr.tmp, this=0x7fb50d60c9f0)\n",
      "COG: Generating overviews of the imagery: end\n",
      "COG: Generating final product: start\n",
      "GDAL: GDALOpen(srtm_GC.tif.ovr.tmp, this=0x7fb50e89b7c0) succeeds as GTiff.\n",
      "GTiff: ScanDirectories()\n",
      "GTiff: Opened 1982x776 overview.\n",
      "GTiff: Opened 991x388 overview.\n",
      "GTiff: Opened 495x194 overview.\n",
      "GTiff: ScanDirectories()\n",
      "GDAL: GDALOverviewDataset(srtm_GC.tif.ovr.tmp, this=0x7fb50d848120) creation.\n",
      "GDAL: GDALOverviewDataset(srtm_GC.tif.ovr.tmp, this=0x7fb50d35b2e0) creation.\n",
      "GDAL: GDALOverviewDataset(srtm_GC.tif.ovr.tmp, this=0x7fb50d35b2e0) creation.\n",
      "...30...40...50...60...70...80...90...100 - done.\n",
      "GDAL: GDALClose(srtm_GC.tif.ovr.tmp, this=0x7fb50e89b7c0)\n",
      "COG: Generating final product: end\n",
      "GDAL: GDALClose(srtm_GC.tif, this=0x7fb509f74a90)\n",
      "GDAL: GDALClose(/vsicurl/https://opentopography.s3.sdsc.edu/raster/SRTM_GL1/SRTM_GL1_srtm.vrt, this=0x7fb50d6a5560)\n",
      "GDAL: GDALClose(/vsicurl/https://opentopography.s3.sdsc.edu/raster/SRTM_GL1/SRTM_GL1_srtm/N36W114.tif, this=0x7fb50d61b120)\n",
      "GDAL: GDALClose(/vsicurl/https://opentopography.s3.sdsc.edu/raster/SRTM_GL1/SRTM_GL1_srtm/N36W113.tif, this=0x7fb50ea69840)\n",
      "GDAL: GDALClose(/vsicurl/https://opentopography.s3.sdsc.edu/raster/SRTM_GL1/SRTM_GL1_srtm/N36W112.tif, this=0x7fb50d60de30)\n",
      "GDAL: GDALClose(/vsicurl/https://opentopography.s3.sdsc.edu/raster/SRTM_GL1/SRTM_GL1_srtm/N35W113.tif, this=0x7fb50d66afd0)\n",
      "GDAL: GDALClose(/vsicurl/https://opentopography.s3.sdsc.edu/raster/SRTM_GL1/SRTM_GL1_srtm/N35W114.tif, this=0x7fb50d80a900)\n",
      "GDAL: GDALClose(/vsicurl/https://opentopography.s3.sdsc.edu/raster/SRTM_GL1/SRTM_GL1_srtm/N35W112.tif, this=0x7fb50d552610)\n",
      "GDAL: In GDALDestroy - unloading GDAL shared library.\n",
      "\n",
      "real\t0m19.285s\n",
      "user\t0m8.673s\n",
      "sys\t0m1.541s\n"
     ]
    }
   ],
   "source": [
    "!time gdal_translate --debug on /vsicurl/https://opentopography.s3.sdsc.edu/raster/SRTM_GL1/SRTM_GL1_srtm.vrt -projwin -113.98 36.563 -111.777 35.7 -of COG -co\\\n",
    " COMPRESS=deflate srtm_GC.tif\n",
    "    "
   ]
  },
  {
   "cell_type": "markdown",
   "id": "developmental-forward",
   "metadata": {},
   "source": [
    "---\n",
    "So the above command runs pretty quickly, and by using GDAL version 3.2, which has native COG support, we are able to output a COG-formatted mosaic of SRTM data over our area of interest.  Note the '-co COMPRESS-deflate' command additionally compresses the output file using the 'deflate' algorithm to reduce the output filesize.  Here is the output from this command:\n",
    "\n",
    "![GrandCanyonClipped](img/srtm_GConBasemap.png)\n",
    "\n",
    "**NOTE:** Users can get the same data product by using [OpenTopography's API](https://opentopography.org/developers).  Users can [build the REST API call](https://portal.opentopography.org/apidocs/#/Public/getGlobalDem) and it will output the appropriate request to use in a curl command, or a http GET request.  Here is the URL request that is output for SRTM GL1 data over the GrandCanyon:\n",
    "\n",
    "`https://portal.opentopography.org/API/globaldem?demtype=SRTMGL1&south=35.7&north=36.54&west=-114&east=-111.7&outputFormat=GTiff`\n"
   ]
  },
  {
   "cell_type": "markdown",
   "id": "enclosed-stability",
   "metadata": {},
   "source": [
    "---\n",
    "By using the VRTs we have now have a single, mosaiced geotiff that is much smaller in size than the original tiled images.  But we can take this further by using the power of COGs and other python libraries.  So, let's say we really only want data around the Colorado River.  To do this, we first need to get a vector representation of the Colorado River.  Luckily, there is a fantastic site called, [Natural Earth Data](https://www.naturalearthdata.com/) that has a wealth of vector and raster map data at a variety of scales.  For this example, we'll use the rivers and lakes centerlines file.  You can download the data from the [Natural Earth Data Download site](https://www.naturalearthdata.com/downloads/10m-physical-vectors/) or you can use wget.  You may need to install wget with a pip command:"
   ]
  },
  {
   "cell_type": "code",
   "execution_count": 6,
   "id": "saving-campbell",
   "metadata": {},
   "outputs": [
    {
     "name": "stdout",
     "output_type": "stream",
     "text": [
      "Collecting wget\n",
      "  Using cached wget-3.2-py3-none-any.whl\n",
      "Installing collected packages: wget\n",
      "Successfully installed wget-3.2\n"
     ]
    }
   ],
   "source": [
    "!pip install wget"
   ]
  },
  {
   "cell_type": "code",
   "execution_count": 7,
   "id": "overhead-patrick",
   "metadata": {},
   "outputs": [
    {
     "data": {
      "text/plain": [
       "'rivers.zip'"
      ]
     },
     "execution_count": 7,
     "metadata": {},
     "output_type": "execute_result"
    }
   ],
   "source": [
    "import wget\n",
    "wget.download('https://www.naturalearthdata.com/http//www.naturalearthdata.com/download/10m/physical/ne_10m_rivers_lake_centerlines.zip','rivers.zip')"
   ]
  },
  {
   "cell_type": "code",
   "execution_count": 8,
   "id": "velvet-packaging",
   "metadata": {},
   "outputs": [
    {
     "name": "stdout",
     "output_type": "stream",
     "text": [
      "Archive:  rivers.zip\n",
      "  inflating: ne_10m_rivers_lake_centerlines.README.html  \n",
      " extracting: ne_10m_rivers_lake_centerlines.VERSION.txt  \n",
      " extracting: ne_10m_rivers_lake_centerlines.cpg  \n",
      "  inflating: ne_10m_rivers_lake_centerlines.dbf  \n",
      "  inflating: ne_10m_rivers_lake_centerlines.prj  \n",
      "  inflating: ne_10m_rivers_lake_centerlines.shp  \n",
      "  inflating: ne_10m_rivers_lake_centerlines.shx  \n"
     ]
    }
   ],
   "source": [
    "!unzip rivers.zip"
   ]
  },
  {
   "cell_type": "markdown",
   "id": "fundamental-transfer",
   "metadata": {},
   "source": [
    "---\n",
    "Now we have river data, but it is for the entire world. Next we'll clip the river dataset to our area of interest using [GDAL's vector toolkit](https://gdal.org/programs/ogr2ogr.html#ogr2ogr).  We also want to create a buffer around the river, but in order to do that we need to project the data.  As downloaded, the river data is in a Geographic Coordinate System, so we will need to output the data in a projected coordinate system in order to do the buffering operation.  Arizona is in UTM zone 12N, so we'll use [EPSG:32612](https://epsg.io/32612) for the output projection.  Using the ogr2ogr tool we can output a projected, clipped version of the river shapefile with the following command:"
   ]
  },
  {
   "cell_type": "code",
   "execution_count": 9,
   "id": "intensive-jackson",
   "metadata": {},
   "outputs": [
    {
     "name": "stdout",
     "output_type": "stream",
     "text": [
      "Warning 1: One or several characters couldn't be converted correctly from UTF-8 to ISO-8859-1.  This warning will not be emitted anymore.\r\n"
     ]
    }
   ],
   "source": [
    "!ogr2ogr ColoradoRiver_AOI.shp ne_10m_rivers_lake_centerlines.shp -t_srs EPSG:32612 -spat -113.98 35.7 -111.777 36.563 -clipsrc spat_extent"
   ]
  },
  {
   "cell_type": "markdown",
   "id": "cordless-wesley",
   "metadata": {},
   "source": [
    "Next we need to create a buffer around the Colorado River.  We'll make a buffer that is 10km around either side so that we include the interesting features of the Grand Canyon.  With OGR you can pass in [SQLite commands](https://gdal.org/user/sql_sqlite_dialect.html).  In this example we will use the ST_Buffer command to create a 10km buffer around the Colorado River."
   ]
  },
  {
   "cell_type": "code",
   "execution_count": 10,
   "id": "lyric-measure",
   "metadata": {},
   "outputs": [
    {
     "name": "stdout",
     "output_type": "stream",
     "text": [
      "\t- 'VirtualXPath'\t[XML Path Language - XPath]\n",
      "\t- 'VirtualXPath'\t[XML Path Language - XPath]\n"
     ]
    }
   ],
   "source": [
    "!ogr2ogr ColoradoRiver_AOI_10kmBuffer.shp ColoradoRiver_AOI.shp -dialect sqlite -sql \"select ST_buffer(geometry,10000) as geometry from ColoradoRiver_AOI\""
   ]
  },
  {
   "cell_type": "markdown",
   "id": "sitting-carry",
   "metadata": {},
   "source": [
    "Since the river shapefile had segments, we should dissolve the buffer so that we end up with a single dissolved polygon that covers the buffer region of the river.  To do this, we can once again use the \"ST_Union\" command with sqlite:"
   ]
  },
  {
   "cell_type": "code",
   "execution_count": 11,
   "id": "iraqi-original",
   "metadata": {},
   "outputs": [
    {
     "name": "stdout",
     "output_type": "stream",
     "text": [
      "\t- 'VirtualXPath'\t[XML Path Language - XPath]\n",
      "\t- 'VirtualXPath'\t[XML Path Language - XPath]\n"
     ]
    }
   ],
   "source": [
    "!ogr2ogr ColoradoRiver_AOI_Buffer_Dissolved.shp ColoradoRiver_AOI_10kmBuffer.shp -dialect sqlite -sql \"select ST_Union(geometry) as geometry from ColoradoRiver_AOI_10kmBuffer\""
   ]
  },
  {
   "cell_type": "markdown",
   "id": "gorgeous-consumption",
   "metadata": {},
   "source": [
    "---\n",
    "Since we buffered the data, it now extends outside our AOI.  We can clip it to the bounds, but the buffered shapefile is now in UTM 12N projected coordinates, so we need to find what the bounding box coordinates are in UTM 12N coordinates.  We can do this tranformation with OSR and OGR in the python API: "
   ]
  },
  {
   "cell_type": "code",
   "execution_count": 12,
   "id": "mediterranean-interview",
   "metadata": {},
   "outputs": [
    {
     "name": "stdout",
     "output_type": "stream",
     "text": [
      "Lower Left Corner in UTM X,Y is: POINT (230367.047752107 3954768.801329)\n",
      "Upper Right Corner in UTM X,Y is: POINT (430471.347916117 4046677.17926595)\n"
     ]
    }
   ],
   "source": [
    "from osgeo import ogr                                                                                                                                           \n",
    "from osgeo import osr                                                                                                                                           \n",
    "                                                                                                                                                                \n",
    "# WGS84/Geographic                                                                                                                                              \n",
    "InCRS = osr.SpatialReference()                                                                                                                                  \n",
    "InCRS.ImportFromEPSG(4326)                                                                                                                                      \n",
    "                                                                                                                                                                \n",
    "# WGS84 UTM Zone 12N                                                                                                                                            \n",
    "OutCRS = osr.SpatialReference()                                                                                                                                 \n",
    "OutCRS.ImportFromEPSG(32612)                                                                                                                                    \n",
    "                                                                                                                                                                \n",
    "transform = osr.CoordinateTransformation(InCRS, OutCRS)                                                                                                         \n",
    "                                                                                                                                                                \n",
    "#NOTE in GDAL Versions > 3.0:  input order is lat,lon                                                                                                           \n",
    "point_LL = ogr.CreateGeometryFromWkt(\"POINT (35.7 -113.98)\")                                                                                                    \n",
    "point_LL.Transform(transform)                                                                                                                                   \n",
    "                                                                                                                                                                \n",
    "                                                                                                                                                                \n",
    "point_UR = ogr.CreateGeometryFromWkt(\"POINT (36.563 -111.777)\")                                                                                                 \n",
    "point_UR.Transform(transform)                                                                                                                                   \n",
    "                                                                                                                                                                \n",
    "print('Lower Left Corner in UTM X,Y is: '+point_LL.ExportToWkt())                                                                                               \n",
    "print('Upper Right Corner in UTM X,Y is: '+point_UR.ExportToWkt())"
   ]
  },
  {
   "cell_type": "markdown",
   "id": "mechanical-portuguese",
   "metadata": {},
   "source": [
    "---\n",
    "Now we can feed these UTM bounding coordinates back into a ogr to do the clipping:"
   ]
  },
  {
   "cell_type": "code",
   "execution_count": 13,
   "id": "interesting-jamaica",
   "metadata": {},
   "outputs": [],
   "source": [
    "!ogr2ogr ColoradoRiver_AOI_Final.shp ColoradoRiver_AOI_Buffer_Dissolved.shp -clipdst 230367.047752107 3954768.801329 430471.347916117 4046677.17926595"
   ]
  },
  {
   "cell_type": "markdown",
   "id": "shared-breast",
   "metadata": {},
   "source": [
    "---\n",
    "Now we have a final boundary that we can use to read in and clip the SRTM data\n",
    "\n",
    "![ColoradoRiverBuffer](img/srtm_GC_wBuffer.png)\n"
   ]
  },
  {
   "cell_type": "markdown",
   "id": "entertaining-cleaning",
   "metadata": {},
   "source": [
    "---\n",
    "Because we are ultimately going to intersect this boundary with the SRTM VRT, they both need to be in the same coordinate system.  So, we need to re-project this final boundary back to Geographic Coordinates so that it is compatible with the SRTM dataset.  We can do this with a ogr2ogr command:\n",
    "\n"
   ]
  },
  {
   "cell_type": "code",
   "execution_count": 14,
   "id": "growing-stomach",
   "metadata": {},
   "outputs": [],
   "source": [
    "!ogr2ogr ColoradoRiver_AOI_Final_WGSLatLon.shp ColoradoRiver_AOI_Final.shp -s_srs \"EPSG:32612\" -t_srs \"EPSG:4326\""
   ]
  },
  {
   "cell_type": "markdown",
   "id": "rental-costa",
   "metadata": {},
   "source": [
    "Many applications can now take advantage of COGs.  [Rasterio](https://rasterio.readthedocs.io/en/latest/) is a python library that takes advantage of COGs ability to use the vsis3 and vsicurl file system handlers to perform HTTP reads in a more efficient way.  Ultimately, this benefit is passed on to the user by providing faster downloads that take up less disk space.  As an example, we will use [fiona](https://pypi.org/project/Fiona/) and [rasterio](https://rasterio.readthedocs.io/en/latest/) to download only the SRTM data that fits within our 10km Colorado River buffer. "
   ]
  },
  {
   "cell_type": "code",
   "execution_count": 15,
   "id": "integral-school",
   "metadata": {},
   "outputs": [
    {
     "name": "stdout",
     "output_type": "stream",
     "text": [
      "Collecting fiona\n",
      "  Using cached Fiona-1.8.18-cp39-cp39-macosx_10_9_x86_64.whl\n",
      "Collecting click-plugins>=1.0\n",
      "  Using cached click_plugins-1.1.1-py2.py3-none-any.whl (7.5 kB)\n",
      "Collecting click<8,>=4.0\n",
      "  Using cached click-7.1.2-py2.py3-none-any.whl (82 kB)\n",
      "Requirement already satisfied: six>=1.7 in /Users/beckley/miniconda3/envs/COGS/lib/python3.9/site-packages (from fiona) (1.15.0)\n",
      "Collecting munch\n",
      "  Using cached munch-2.5.0-py2.py3-none-any.whl (10 kB)\n",
      "Collecting cligj>=0.5\n",
      "  Using cached cligj-0.7.1-py3-none-any.whl (7.1 kB)\n",
      "Requirement already satisfied: attrs>=17 in /Users/beckley/miniconda3/envs/COGS/lib/python3.9/site-packages (from fiona) (20.3.0)\n",
      "Requirement already satisfied: certifi in /Users/beckley/miniconda3/envs/COGS/lib/python3.9/site-packages (from fiona) (2020.12.5)\n",
      "Installing collected packages: click, munch, cligj, click-plugins, fiona\n",
      "Successfully installed click-7.1.2 click-plugins-1.1.1 cligj-0.7.1 fiona-1.8.18 munch-2.5.0\n",
      "Note: you may need to restart the kernel to use updated packages.\n"
     ]
    }
   ],
   "source": [
    "pip install fiona"
   ]
  },
  {
   "cell_type": "code",
   "execution_count": 16,
   "id": "graphic-vault",
   "metadata": {},
   "outputs": [
    {
     "name": "stdout",
     "output_type": "stream",
     "text": [
      "Collecting rasterio\n",
      "  Using cached rasterio-1.2.0-cp39-cp39-macosx_10_9_x86_64.whl (20.5 MB)\n",
      "Requirement already satisfied: attrs in /Users/beckley/miniconda3/envs/COGS/lib/python3.9/site-packages (from rasterio) (20.3.0)\n",
      "Requirement already satisfied: numpy in /Users/beckley/miniconda3/envs/COGS/lib/python3.9/site-packages (from rasterio) (1.20.0)\n",
      "Collecting snuggs>=1.4.1\n",
      "  Using cached snuggs-1.4.7-py3-none-any.whl (5.4 kB)\n",
      "Requirement already satisfied: click<8,>=4.0 in /Users/beckley/miniconda3/envs/COGS/lib/python3.9/site-packages (from rasterio) (7.1.2)\n",
      "Requirement already satisfied: certifi in /Users/beckley/miniconda3/envs/COGS/lib/python3.9/site-packages (from rasterio) (2020.12.5)\n",
      "Requirement already satisfied: cligj>=0.5 in /Users/beckley/miniconda3/envs/COGS/lib/python3.9/site-packages (from rasterio) (0.7.1)\n",
      "Collecting affine\n",
      "  Using cached affine-2.3.0-py2.py3-none-any.whl (15 kB)\n",
      "Requirement already satisfied: click-plugins in /Users/beckley/miniconda3/envs/COGS/lib/python3.9/site-packages (from rasterio) (1.1.1)\n",
      "Requirement already satisfied: pyparsing>=2.1.6 in /Users/beckley/miniconda3/envs/COGS/lib/python3.9/site-packages (from snuggs>=1.4.1->rasterio) (2.4.7)\n",
      "Installing collected packages: snuggs, affine, rasterio\n",
      "Successfully installed affine-2.3.0 rasterio-1.2.0 snuggs-1.4.7\n",
      "Note: you may need to restart the kernel to use updated packages.\n"
     ]
    }
   ],
   "source": [
    "pip install rasterio"
   ]
  },
  {
   "cell_type": "code",
   "execution_count": 17,
   "id": "hidden-manhattan",
   "metadata": {},
   "outputs": [],
   "source": [
    "import fiona                                                                                                                                                    \n",
    "import rasterio                                                                                                                                                 \n",
    "import rasterio.mask                                                                                                                                            \n",
    "                                                                                                                                                                \n",
    "inshp = 'ColoradoRiver_AOI_Final_WGSLatLon.shp'                                                         \n",
    "fp = 'https://opentopography.s3.sdsc.edu/raster/SRTM_GL1/SRTM_GL1_srtm.vrt'                                                                                     \n",
    "\n",
    "#read in the buffered shapefile using fiona\n",
    "with fiona.open(inshp, \"r\") as shapefile:                                                                                                                       \n",
    "    shapes = [feature[\"geometry\"] for feature in shapefile]                                                                                                     \n",
    "                                                                                                                                                                \n",
    "#Using rasterio, read directly from the SMRT VRT of COGs, and crop\n",
    "# data to the buffer polygon\n",
    "with rasterio.open(fp) as src:                                                                                                                                  \n",
    "    out_image, out_transform = rasterio.mask.mask(src, shapes, crop=True)                                                                                       \n",
    "    out_meta = src.meta                                                                                                                                         \n",
    "\n",
    "#set up the output parameters\n",
    "out_meta.update({\"driver\": \"GTiff\",                                                                                                                             \n",
    "                 \"height\": out_image.shape[1],                                                                                                                  \n",
    "                 \"width\": out_image.shape[2],\n",
    "                 \"compress\": \"LZW\",\n",
    "                 \"tiled\":\"True\", \n",
    "                 \"blockxsize\":\"256\",\n",
    "                 \"blockysize\":\"256\",\n",
    "                 \"transform\": out_transform})                                                                                                                   \n",
    "                                                                                                                                                                \n",
    "#Write out just the SRTM data that is within the buffer polygon\n",
    "with rasterio.open(\"GrandCanyon_masked.tif\", \"w\", **out_meta) as dest:                                                                                                   \n",
    "    dest.write(out_image)      "
   ]
  },
  {
   "cell_type": "markdown",
   "id": "massive-folder",
   "metadata": {},
   "source": [
    "---\n",
    "Using rasterio with OpenTopography's VRT of COGs, we are able to download only the portion of the SRTM data we need.  In this example, we downloaded only data that is within our 10 km polygon buffer of the portion of Colorado River around the Grand Canyon.  **Our final output raster is only 12MB, versus the 86MB of tiffs we started with at the beginning!!**  By putting all these tools together, users can create powerful scripts that automate data access, and ultimately reduce time on data downloads and post-processing.  \n",
    "\n",
    "![Final Product](img/srtm_GC_clip2Buffer.png)\n",
    "\n",
    "## Conclusion\n",
    "Hopefully this tutorial has been helpful, and has demonstrated alternative methods to accessing cloud-based data.  We encourage users to explore these datasets with these powerful tools.  Opentopography has 4 global datasets that are available through our API and/or bulk access as described in this article:\n",
    "* [SRTM](https://doi.org/10.5069/G9445JDF)\n",
    "* [ALOS](https://doi.org/10.5069/G94M92HB)\n",
    "* [STRM15+](https://doi.org/10.5069/G92R3PT9)\n",
    "\n",
    "\n",
    "\n",
    "## Resources\n",
    "Check out some of these excellent resources on GDAL, Rasterio, and COGs\n",
    "* [A good introduction to COGs](https://www.cogeo.org/ )\n",
    "* [Another good intro to COGs](https://medium.com/planet-stories/a-handy-introduction-to-cloud-optimized-geotiffs-1f2c9e716ec3)                    \n",
    "* [Detailed info about the COG format in GDAL](https://trac.osgeo.org/gdal/wiki/CloudOptimizedGeoTIFF)                 \n",
    "* [Python notebook on how to use Rasterio](https://gist.github.com/sgillies/7e5cd548110a5b4d45ac1a1d93cb17a3)\n",
    "* [An excellent explanation of COG file structure](https://medium.com/element84/cloud-optimized-geotiff-vs-the-meta-raster-format-d24c1a77dc2e)\n",
    "* [Reading COGs with Rasterio (and much more)](https://automating-gis-processes.github.io/CSC/notebooks/L5/read-cogs.html)\n"
   ]
  }
 ],
 "metadata": {
  "kernelspec": {
   "display_name": "Python 3",
   "language": "python",
   "name": "python3"
  },
  "language_info": {
   "codemirror_mode": {
    "name": "ipython",
    "version": 3
   },
   "file_extension": ".py",
   "mimetype": "text/x-python",
   "name": "python",
   "nbconvert_exporter": "python",
   "pygments_lexer": "ipython3",
   "version": "3.9.1"
  }
 },
 "nbformat": 4,
 "nbformat_minor": 5
}
